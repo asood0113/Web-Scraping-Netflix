{
 "metadata": {
  "language_info": {
   "codemirror_mode": {
    "name": "ipython",
    "version": 3
   },
   "file_extension": ".py",
   "mimetype": "text/x-python",
   "name": "python",
   "nbconvert_exporter": "python",
   "pygments_lexer": "ipython3",
   "version": "3.9.0"
  },
  "orig_nbformat": 4,
  "kernelspec": {
   "name": "python3",
   "display_name": "Python 3.9.0 64-bit"
  },
  "interpreter": {
   "hash": "322e5b4af970d614be014a88b1853ca1fd99b2f4bc97f4da6e5824f5dbf2a6b7"
  }
 },
 "nbformat": 4,
 "nbformat_minor": 2,
 "cells": [
  {
   "cell_type": "code",
   "execution_count": 2,
   "metadata": {},
   "outputs": [],
   "source": [
    "import time\n",
    "from selenium import webdriver as wd"
   ]
  },
  {
   "source": [
    "<h1>Extracting Elements from Netflix"
   ],
   "cell_type": "markdown",
   "metadata": {}
  },
  {
   "cell_type": "code",
   "execution_count": 5,
   "metadata": {},
   "outputs": [
    {
     "output_type": "stream",
     "name": "stdout",
     "text": [
      "Mighty Little Bheem\nSab Jholmaal Hai\nFukrey Boyzzz\nChhota Bheem Kung Fu Dhamaka Series\nPaap-O-Meter\n"
     ]
    }
   ],
   "source": [
    "driver = wd.Chrome(executable_path='C:/Users/anany/.wdm/drivers/chromedriver/win32/91.0.4472.101/chromedriver.exe')\n",
    "\n",
    "driver.get(\"https://netflix.com/\")\n",
    "\n",
    "#locate signin button\n",
    "signin = driver.find_element_by_css_selector(\"#appMountPoint > div > div > div > div > div > div.our-story-header-wrapper > div > a\")\n",
    "\n",
    "#click on sign in\n",
    "signin.click()\n",
    "\n",
    "#input username and id\n",
    "\n",
    "username = driver.find_element_by_css_selector(\"#id_userLoginId\")\n",
    "username.send_keys('enter_id')\n",
    "\n",
    "password = driver.find_element_by_css_selector(\"#id_password\")\n",
    "password.send_keys('enter_password')\n",
    "\n",
    "submit_sign_in = driver.find_element_by_css_selector(\"#appMountPoint > div > div.login-body > div > div > div.hybrid-login-form-main > form > button\")\n",
    "submit_sign_in.click()\n",
    "\n",
    "time.sleep(3)\n",
    "\n",
    "select_id = driver.find_element_by_class_name(\"profile-name\")\n",
    "select_id.click()\n",
    "\n",
    "time.sleep(3)\n",
    "\n",
    "# click on tv shows\n",
    "\n",
    "tv_shows=driver.find_element_by_css_selector(\"#appMountPoint > div > div > div:nth-child(1) > div.bd.dark-background > div.pinning-header > div > div > ul > li:nth-child(3) > a\").click()\n",
    "\n",
    "driver.implicitly_wait(10)\n",
    "\n",
    "# click on genres\n",
    "\n",
    "genres=driver.find_element_by_xpath(\"/html/body/div[1]/div/div/div[1]/div[1]/div[1]/div/div[2]/div/div/div/div[2]/div[1]/div/div/div/div[1]/span\").click()\n",
    "\n",
    "# selecy the genre\n",
    "\n", 
    # this can change
    "genre_select=driver.find_element_by_css_selector(\"#appMountPoint > div > div > div:nth-child(1) > div.bd.dark-background > div.pinning-header > div > div.sub-header > div > div > div > div.aro-genre-details > div.subgenres > div > div > div > div.sub-menu.theme-lakira > ul:nth-child(1) > li:nth-child(1) > a\").click()\n",
    "\n",
    "driver.implicitly_wait(10)\n",
    "driver.implicitly_wait(10)\n",
    "# popular on netflix\n",
    "\n",
    "popular=[]\n",
    "\n",
    "for i in driver.find_elements_by_css_selector(\"#row-4 > div > div\"):\n",
    "    popular.append(i.text)\n",
    "    print(i.text)\n",
    "# this prints the popular shows \n"
   ]
  }
 ]
}
